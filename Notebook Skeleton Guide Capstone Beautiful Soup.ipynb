{
 "cells": [
  {
   "attachments": {},
   "cell_type": "markdown",
   "metadata": {},
   "source": [
    "# Capstone Webscrapping using BeautifulSoup\n",
    "\n",
    "This notebook contains guidances & tasks on the data processing for the application\n",
    "\n",
    "## Background\n",
    "\n",
    "At this project I try to scrap the data of exchange rate US Dollar to Rupiah from [Exchange Rate](https://www.exchange-rates.org/exchange-rate-history/usd-idr) website. Exchange Rate is a website that allows you to check the latest foreign exchange rates. The data is up to date and provided by one the financial leaders.\n",
    "\n",
    "From this website, I will scrap the daily price and date using USD to IDR history data for last 6 months start from October 10, 2022 until April 7, 2023. After scrapping the data, I will wrangling the data and visualize the plot of exchange rate using the library from Python specifically Pandas.\n",
    "\n",
    "The purpose of doing web scraping on the Exchange Rate web is to retrieve data on the exchange rate of USD to IDR to visualize it in a range per day\n",
    "\n",
    "## Requesting the Data and Creating a BeautifulSoup\n",
    "\n",
    "Let's begin with requesting the web from the site with `get` method."
   ]
  },
  {
   "cell_type": "code",
   "execution_count": 47,
   "metadata": {
    "ExecuteTime": {
     "end_time": "2020-01-13T05:12:23.275508Z",
     "start_time": "2020-01-13T05:12:20.009898Z"
    }
   },
   "outputs": [],
   "source": [
    "import requests\n",
    "\n",
    "url_get = requests.get('https://www.exchange-rates.org/history/IDR/USD/T')"
   ]
  },
  {
   "cell_type": "markdown",
   "metadata": {},
   "source": [
    "To visualize what exactly you get from the `request.get`, we can use .content so ee what we exactly get, in here i slice it so it won't make our screen full of the html we get from the page. You can delete the slicing if you want to see what we fully get."
   ]
  },
  {
   "cell_type": "code",
   "execution_count": 48,
   "metadata": {
    "ExecuteTime": {
     "end_time": "2020-01-13T05:12:23.290648Z",
     "start_time": "2020-01-13T05:12:23.277650Z"
    }
   },
   "outputs": [
    {
     "data": {
      "text/plain": [
       "b'!DOCTYPE html>\\r\\n<!--[if lt IE 9]>\\r\\n<html class=\"no-js ie8 oldie\" lang=\"en\" xml:lang=\\'en\\'>\\r\\n<![endif]-->\\r\\n<!--[if gt IE 8]><!--><html class=\"no-js\" lang=\"en\" xml:lang=\\'en\\'><!--<![endif]-->\\r\\n<head>\\r\\n<title>USD to IDR exchange rate history</title>\\r\\n<meta http-equiv=\"X-UA-Compatible\" content=\"IE=edge\">\\r\\n<meta name=\"viewport\" content=\"width=device-width, initial-scale=1, maximum-scale=5\">\\r\\n<meta charset=\"utf-8\" /><meta http-equiv=\"Content-Type\" content=\"text/html; charset=utf-8\" />\\r\\n<base href=\"http'"
      ]
     },
     "execution_count": 48,
     "metadata": {},
     "output_type": "execute_result"
    }
   ],
   "source": [
    "url_get.content[1:500]"
   ]
  },
  {
   "cell_type": "markdown",
   "metadata": {},
   "source": [
    "As we can see we get a very unstructured and complex html, which actually contains the codes needed to show the webpages on your web browser. But we as human still confused what and where we can use that piece of code, so here where we use the beautifulsoup. Beautiful soup class will result a beautifulsoup object. Beautiful Soup transforms a complex HTML document into a complex tree of Python objects. \n",
    "\n",
    "Let's make Beautiful soup object and feel free to explore the object here."
   ]
  },
  {
   "cell_type": "code",
   "execution_count": 49,
   "metadata": {
    "ExecuteTime": {
     "end_time": "2020-01-13T05:12:23.808122Z",
     "start_time": "2020-01-13T05:12:23.292610Z"
    }
   },
   "outputs": [],
   "source": [
    "from bs4 import BeautifulSoup \n",
    "\n",
    "soup = BeautifulSoup(url_get.content,\"html.parser\")"
   ]
  },
  {
   "cell_type": "markdown",
   "metadata": {},
   "source": [
    "## Finding the right key to scrap the data & Extracting the right information"
   ]
  },
  {
   "cell_type": "markdown",
   "metadata": {},
   "source": [
    "Find the key and put the key into the `.find()` Put all the exploring the right key at this cell. (please change this markdown with your explanation)"
   ]
  },
  {
   "cell_type": "code",
   "execution_count": 50,
   "metadata": {
    "ExecuteTime": {
     "end_time": "2020-01-13T05:12:23.878904Z",
     "start_time": "2020-01-13T05:12:23.854974Z"
    }
   },
   "outputs": [
    {
     "name": "stdout",
     "output_type": "stream",
     "text": [
      "table border=\"0\" cellpadding=\"0\" cellspacing=\"0\" class=\"history-rates-data\">\n",
      " <thead>\n",
      "  <tr>\n",
      "   <th class=\"ltr-bidi-fix\">\n",
      "    Date\n",
      "   </th>\n",
      "   <th class=\"ltr-bidi-fix\">\n",
      "    US Dollar to Indonesian Rupiah\n",
      "   </th>\n",
      "  </tr>\n",
      " </thead>\n",
      " <tbody>\n",
      "  <tr>\n",
      "   <td>\n",
      "    <a class=\"w\" href=\"/exchange-rate-history/usd-idr-2023-04-07\">\n",
      "     April 7, 2023\n",
      "    </a>\n",
      "    <a class=\"n\" href=\"/exchange-rate-history/usd-idr-2023-04-07\">\n",
      "     2023-4-7\n",
      "    </a>\n",
      "   </td>\n",
      "   <td>\n",
      "    <span class=\"w\">\n",
      "     <span class=\"nowrap\">\n",
      "      <span class=\"currencySymbol\">\n",
      "       $\n",
      "      </span>\n",
      "      1 =\n",
      "     </span>\n",
      "     <span class=\"nowrap\">\n",
      "      <span class=\"currencySymbol\">\n",
      "       Rp\n",
      "      </span>\n",
      "      14,941\n",
      "     </span>\n",
      "    </span>\n",
      "    <span class=\"n\">\n",
      "     <span class=\"nowrap\">\n",
      "      <span class=\"currencySymbol\">\n",
      "       $\n",
      "      </span>\n",
      "      1 =\n",
      "     </span>\n",
      "     <span class=\"nowrap\">\n",
      "      <span class=\"currencySymbol\">\n",
      "       Rp\n",
      "      </span>\n",
      "      14,941\n",
      "     </span>\n",
      "    </span>\n",
      "   </td>\n",
      "  </tr>\n",
      "  <tr class=\"odd\">\n",
      "   <td>\n",
      "    <a class=\"w\" href=\"/exchange-rate-history/usd-idr-2023-04-06\">\n",
      "     April 6, 2023\n",
      "    </a>\n",
      "    <a class=\"n\" href=\"/exchange-rate-history/usd-idr-2023-04-06\">\n",
      "     2023-4-6\n",
      "    </a>\n",
      "   </td>\n",
      "   <td>\n",
      "    <span class=\"w\">\n",
      "     <span class=\"nowrap\">\n",
      "      <span class=\"currencySymbol\">\n",
      "       $\n",
      "      </span>\n",
      "      1 =\n",
      "     </span>\n",
      "     <span class=\"nowrap\">\n",
      "      <span class=\"currencySymbol\">\n",
      "       Rp\n",
      "      </span>\n",
      "      14,931\n",
      "     </span>\n",
      "    </span>\n",
      "    <span class=\"n\">\n",
      "     <span\n"
     ]
    }
   ],
   "source": [
    "table = soup.find('table', attrs = {'class':'history-rates-data'})\n",
    "print(table.prettify()[1:1500])"
   ]
  },
  {
   "cell_type": "markdown",
   "metadata": {},
   "source": [
    "Finding row length."
   ]
  },
  {
   "cell_type": "code",
   "execution_count": 51,
   "metadata": {},
   "outputs": [
    {
     "data": {
      "text/plain": [
       "130"
      ]
     },
     "execution_count": 51,
     "metadata": {},
     "output_type": "execute_result"
    }
   ],
   "source": [
    "row = table.find_all('a', attrs = {'class': 'n'})\n",
    "row_length = len(row)\n",
    "row_length"
   ]
  },
  {
   "cell_type": "markdown",
   "metadata": {},
   "source": [
    "Do the scrapping process here (please change this markdown with your explanation)"
   ]
  },
  {
   "cell_type": "code",
   "execution_count": 52,
   "metadata": {
    "ExecuteTime": {
     "end_time": "2020-01-13T05:12:24.008256Z",
     "start_time": "2020-01-13T05:12:23.980358Z"
    }
   },
   "outputs": [
    {
     "data": {
      "text/plain": [
       "[('2023-4-7', '14941'),\n",
       " ('2023-4-6', '14931'),\n",
       " ('2023-4-5', '14960'),\n",
       " ('2023-4-4', '14957'),\n",
       " ('2023-4-3', '14922'),\n",
       " ('2023-3-31', '14969'),\n",
       " ('2023-3-30', '15024'),\n",
       " ('2023-3-29', '15034'),\n",
       " ('2023-3-28', '15060'),\n",
       " ('2023-3-27', '15107'),\n",
       " ('2023-3-24', '15165'),\n",
       " ('2023-3-23', '15085'),\n",
       " ('2023-3-22', '15253'),\n",
       " ('2023-3-21', '15301'),\n",
       " ('2023-3-20', '15343'),\n",
       " ('2023-3-17', '15375'),\n",
       " ('2023-3-16', '15429'),\n",
       " ('2023-3-15', '15459'),\n",
       " ('2023-3-14', '15380'),\n",
       " ('2023-3-13', '15416'),\n",
       " ('2023-3-10', '15503'),\n",
       " ('2023-3-9', '15495'),\n",
       " ('2023-3-8', '15449'),\n",
       " ('2023-3-7', '15429'),\n",
       " ('2023-3-6', '15354'),\n",
       " ('2023-3-3', '15278'),\n",
       " ('2023-3-2', '15322'),\n",
       " ('2023-3-1', '15249'),\n",
       " ('2023-2-28', '15241'),\n",
       " ('2023-2-27', '15216'),\n",
       " ('2023-2-24', '15265'),\n",
       " ('2023-2-23', '15211'),\n",
       " ('2023-2-22', '15197'),\n",
       " ('2023-2-21', '15235'),\n",
       " ('2023-2-20', '15168'),\n",
       " ('2023-2-17', '15166'),\n",
       " ('2023-2-16', '15144'),\n",
       " ('2023-2-15', '15205'),\n",
       " ('2023-2-14', '15186'),\n",
       " ('2023-2-13', '15216'),\n",
       " ('2023-2-10', '15188'),\n",
       " ('2023-2-9', '15147'),\n",
       " ('2023-2-8', '15133'),\n",
       " ('2023-2-7', '15154'),\n",
       " ('2023-2-6', '15198'),\n",
       " ('2023-2-3', '15095'),\n",
       " ('2023-2-2', '14907'),\n",
       " ('2023-2-1', '14896'),\n",
       " ('2023-1-31', '15002'),\n",
       " ('2023-1-30', '15013'),\n",
       " ('2023-1-27', '14973'),\n",
       " ('2023-1-26', '14955'),\n",
       " ('2023-1-25', '14940'),\n",
       " ('2023-1-24', '14956'),\n",
       " ('2023-1-23', '15026'),\n",
       " ('2023-1-20', '15063'),\n",
       " ('2023-1-19', '15154'),\n",
       " ('2023-1-18', '15138'),\n",
       " ('2023-1-17', '15180'),\n",
       " ('2023-1-16', '15126'),\n",
       " ('2023-1-13', '15115'),\n",
       " ('2023-1-12', '15206'),\n",
       " ('2023-1-11', '15432'),\n",
       " ('2023-1-10', '15536'),\n",
       " ('2023-1-9', '15596'),\n",
       " ('2023-1-6', '15607'),\n",
       " ('2023-1-5', '15635'),\n",
       " ('2023-1-4', '15582'),\n",
       " ('2023-1-3', '15594'),\n",
       " ('2023-1-2', '15554'),\n",
       " ('2022-12-30', '15534'),\n",
       " ('2022-12-29', '15627'),\n",
       " ('2022-12-28', '15789'),\n",
       " ('2022-12-27', '15620'),\n",
       " ('2022-12-26', '15621'),\n",
       " ('2022-12-23', '15582'),\n",
       " ('2022-12-22', '15574'),\n",
       " ('2022-12-21', '15540'),\n",
       " ('2022-12-20', '15564'),\n",
       " ('2022-12-19', '15568'),\n",
       " ('2022-12-16', '15616'),\n",
       " ('2022-12-15', '15629'),\n",
       " ('2022-12-14', '15543'),\n",
       " ('2022-12-13', '15560'),\n",
       " ('2022-12-12', '15676'),\n",
       " ('2022-12-9', '15604'),\n",
       " ('2022-12-8', '15594'),\n",
       " ('2022-12-7', '15612'),\n",
       " ('2022-12-6', '15625'),\n",
       " ('2022-12-5', '15520'),\n",
       " ('2022-12-2', '15376'),\n",
       " ('2022-12-1', '15389'),\n",
       " ('2022-11-30', '15633'),\n",
       " ('2022-11-29', '15734'),\n",
       " ('2022-11-28', '15743'),\n",
       " ('2022-11-25', '15693'),\n",
       " ('2022-11-24', '15647'),\n",
       " ('2022-11-23', '15626'),\n",
       " ('2022-11-22', '15664'),\n",
       " ('2022-11-21', '15741'),\n",
       " ('2022-11-18', '15641'),\n",
       " ('2022-11-17', '15714'),\n",
       " ('2022-11-16', '15639'),\n",
       " ('2022-11-15', '15557'),\n",
       " ('2022-11-14', '15554'),\n",
       " ('2022-11-11', '15474'),\n",
       " ('2022-11-10', '15520'),\n",
       " ('2022-11-9', '15692'),\n",
       " ('2022-11-8', '15638'),\n",
       " ('2022-11-7', '15685'),\n",
       " ('2022-11-4', '15615'),\n",
       " ('2022-11-3', '15790'),\n",
       " ('2022-11-2', '15685'),\n",
       " ('2022-11-1', '15674'),\n",
       " ('2022-10-31', '15624'),\n",
       " ('2022-10-28', '15557'),\n",
       " ('2022-10-27', '15560'),\n",
       " ('2022-10-26', '15503'),\n",
       " ('2022-10-25', '15533'),\n",
       " ('2022-10-24', '15598'),\n",
       " ('2022-10-21', '15537'),\n",
       " ('2022-10-20', '15562'),\n",
       " ('2022-10-19', '15587'),\n",
       " ('2022-10-18', '15474'),\n",
       " ('2022-10-17', '15441'),\n",
       " ('2022-10-14', '15472'),\n",
       " ('2022-10-13', '15372'),\n",
       " ('2022-10-12', '15319'),\n",
       " ('2022-10-11', '15354'),\n",
       " ('2022-10-10', '15321')]"
      ]
     },
     "execution_count": 52,
     "metadata": {},
     "output_type": "execute_result"
    }
   ],
   "source": [
    "temp = [] #initiating a tuple\n",
    "\n",
    "for i in range(0, row_length):\n",
    "\n",
    "    #get date\n",
    "    date = table.find_all('a', attrs = {'class': 'n'})[i].text\n",
    "    \n",
    "    #get exchange rate and drop the unused string\n",
    "    value = table.find_all('span', attrs = {'class':'n'})[i].text\n",
    "    value = value.replace('$1 = Rp', '').replace(',', '').strip()\n",
    "    \n",
    "    temp.append((date, value))\n",
    "    \n",
    "temp "
   ]
  },
  {
   "cell_type": "markdown",
   "metadata": {},
   "source": [
    "## Creating data frame & Data wrangling"
   ]
  },
  {
   "cell_type": "markdown",
   "metadata": {},
   "source": [
    "Put the array into dataframe"
   ]
  },
  {
   "cell_type": "code",
   "execution_count": 59,
   "metadata": {
    "ExecuteTime": {
     "end_time": "2020-01-13T05:12:41.517372Z",
     "start_time": "2020-01-13T05:12:29.130015Z"
    }
   },
   "outputs": [
    {
     "data": {
      "text/html": [
       "<div>\n",
       "<style scoped>\n",
       "    .dataframe tbody tr th:only-of-type {\n",
       "        vertical-align: middle;\n",
       "    }\n",
       "\n",
       "    .dataframe tbody tr th {\n",
       "        vertical-align: top;\n",
       "    }\n",
       "\n",
       "    .dataframe thead th {\n",
       "        text-align: right;\n",
       "    }\n",
       "</style>\n",
       "<table border=\"1\" class=\"dataframe\">\n",
       "  <thead>\n",
       "    <tr style=\"text-align: right;\">\n",
       "      <th></th>\n",
       "      <th>Date</th>\n",
       "      <th>Exchange Rate</th>\n",
       "    </tr>\n",
       "  </thead>\n",
       "  <tbody>\n",
       "    <tr>\n",
       "      <th>0</th>\n",
       "      <td>2023-4-7</td>\n",
       "      <td>14941</td>\n",
       "    </tr>\n",
       "    <tr>\n",
       "      <th>1</th>\n",
       "      <td>2023-4-6</td>\n",
       "      <td>14931</td>\n",
       "    </tr>\n",
       "    <tr>\n",
       "      <th>2</th>\n",
       "      <td>2023-4-5</td>\n",
       "      <td>14960</td>\n",
       "    </tr>\n",
       "    <tr>\n",
       "      <th>3</th>\n",
       "      <td>2023-4-4</td>\n",
       "      <td>14957</td>\n",
       "    </tr>\n",
       "    <tr>\n",
       "      <th>4</th>\n",
       "      <td>2023-4-3</td>\n",
       "      <td>14922</td>\n",
       "    </tr>\n",
       "  </tbody>\n",
       "</table>\n",
       "</div>"
      ],
      "text/plain": [
       "       Date Exchange Rate\n",
       "0  2023-4-7         14941\n",
       "1  2023-4-6         14931\n",
       "2  2023-4-5         14960\n",
       "3  2023-4-4         14957\n",
       "4  2023-4-3         14922"
      ]
     },
     "execution_count": 59,
     "metadata": {},
     "output_type": "execute_result"
    }
   ],
   "source": [
    "import pandas as pd\n",
    "\n",
    "df = pd.DataFrame(temp, columns = ('Date', 'Exchange Rate'))\n",
    "df.head()"
   ]
  },
  {
   "cell_type": "code",
   "execution_count": 63,
   "metadata": {
    "scrolled": false
   },
   "outputs": [
    {
     "data": {
      "text/plain": [
       "Date             datetime64[ns]\n",
       "Exchange Rate             int64\n",
       "dtype: object"
      ]
     },
     "execution_count": 63,
     "metadata": {},
     "output_type": "execute_result"
    }
   ],
   "source": [
    "df.dtypes"
   ]
  },
  {
   "cell_type": "markdown",
   "metadata": {},
   "source": [
    "Do the data cleaning here (please change this markdown with your explanation of what you do for data wrangling)"
   ]
  },
  {
   "cell_type": "code",
   "execution_count": 61,
   "metadata": {
    "ExecuteTime": {
     "end_time": "2020-01-13T05:12:59.165559Z",
     "start_time": "2020-01-13T05:12:58.910012Z"
    }
   },
   "outputs": [],
   "source": [
    "df['Date'] = df['Date'].astype('datetime64')\n",
    "df['Exchange Rate'] = df['Exchange Rate'].astype('int64')"
   ]
  },
  {
   "cell_type": "code",
   "execution_count": 62,
   "metadata": {},
   "outputs": [
    {
     "data": {
      "text/html": [
       "<div>\n",
       "<style scoped>\n",
       "    .dataframe tbody tr th:only-of-type {\n",
       "        vertical-align: middle;\n",
       "    }\n",
       "\n",
       "    .dataframe tbody tr th {\n",
       "        vertical-align: top;\n",
       "    }\n",
       "\n",
       "    .dataframe thead th {\n",
       "        text-align: right;\n",
       "    }\n",
       "</style>\n",
       "<table border=\"1\" class=\"dataframe\">\n",
       "  <thead>\n",
       "    <tr style=\"text-align: right;\">\n",
       "      <th></th>\n",
       "      <th>Exchange Rate</th>\n",
       "    </tr>\n",
       "    <tr>\n",
       "      <th>Date</th>\n",
       "      <th></th>\n",
       "    </tr>\n",
       "  </thead>\n",
       "  <tbody>\n",
       "    <tr>\n",
       "      <th>2023-04-07</th>\n",
       "      <td>14941</td>\n",
       "    </tr>\n",
       "    <tr>\n",
       "      <th>2023-04-06</th>\n",
       "      <td>14931</td>\n",
       "    </tr>\n",
       "    <tr>\n",
       "      <th>2023-04-05</th>\n",
       "      <td>14960</td>\n",
       "    </tr>\n",
       "    <tr>\n",
       "      <th>2023-04-04</th>\n",
       "      <td>14957</td>\n",
       "    </tr>\n",
       "    <tr>\n",
       "      <th>2023-04-03</th>\n",
       "      <td>14922</td>\n",
       "    </tr>\n",
       "    <tr>\n",
       "      <th>...</th>\n",
       "      <td>...</td>\n",
       "    </tr>\n",
       "    <tr>\n",
       "      <th>2022-10-14</th>\n",
       "      <td>15472</td>\n",
       "    </tr>\n",
       "    <tr>\n",
       "      <th>2022-10-13</th>\n",
       "      <td>15372</td>\n",
       "    </tr>\n",
       "    <tr>\n",
       "      <th>2022-10-12</th>\n",
       "      <td>15319</td>\n",
       "    </tr>\n",
       "    <tr>\n",
       "      <th>2022-10-11</th>\n",
       "      <td>15354</td>\n",
       "    </tr>\n",
       "    <tr>\n",
       "      <th>2022-10-10</th>\n",
       "      <td>15321</td>\n",
       "    </tr>\n",
       "  </tbody>\n",
       "</table>\n",
       "<p>130 rows × 1 columns</p>\n",
       "</div>"
      ],
      "text/plain": [
       "            Exchange Rate\n",
       "Date                     \n",
       "2023-04-07          14941\n",
       "2023-04-06          14931\n",
       "2023-04-05          14960\n",
       "2023-04-04          14957\n",
       "2023-04-03          14922\n",
       "...                   ...\n",
       "2022-10-14          15472\n",
       "2022-10-13          15372\n",
       "2022-10-12          15319\n",
       "2022-10-11          15354\n",
       "2022-10-10          15321\n",
       "\n",
       "[130 rows x 1 columns]"
      ]
     },
     "execution_count": 62,
     "metadata": {},
     "output_type": "execute_result"
    }
   ],
   "source": [
    "df_for_plot = df.set_index('Date')\n",
    "df_for_plot"
   ]
  },
  {
   "cell_type": "markdown",
   "metadata": {},
   "source": [
    "I change the data types of each column and set the index with Date Column. With the new data frame ```df_for_plot```, I make a data visualisation like in below."
   ]
  },
  {
   "cell_type": "code",
   "execution_count": 66,
   "metadata": {},
   "outputs": [
    {
     "data": {
      "image/png": "[encoded data removed]",
      "text/plain": [
       "<Figure size 640x480 with 1 Axes>"
      ]
     },
     "metadata": {},
     "output_type": "display_data"
    }
   ],
   "source": [
    "df_for_plot.plot(\n",
    "    title = 'USD To IDR Exchange Rate from Oct,10 2022 until Apr,7 2023',\n",
    "    xlabel = 'Daily',\n",
    "    ylabel = 'Price in IDR'\n",
    ");"
   ]
  },
  {
   "cell_type": "markdown",
   "metadata": {},
   "source": [
    "### Implementing your webscrapping to the flask dashboard\n",
    "\n",
    "- Copy paste all of your web scrapping process to the desired position on the `app.py`\n",
    "- Changing the title of the dasboard at `index.html`"
   ]
  },
  {
   "cell_type": "markdown",
   "metadata": {},
   "source": [
    "## Finishing This Notebook with Your Analysis and Conclusion\n",
    "\n",
    "First you can do start with making the data visualisation. "
   ]
  },
  {
   "cell_type": "code",
   "execution_count": 71,
   "metadata": {},
   "outputs": [
    {
     "data": {
      "text/html": [
       "<div>\n",
       "<style scoped>\n",
       "    .dataframe tbody tr th:only-of-type {\n",
       "        vertical-align: middle;\n",
       "    }\n",
       "\n",
       "    .dataframe tbody tr th {\n",
       "        vertical-align: top;\n",
       "    }\n",
       "\n",
       "    .dataframe thead th {\n",
       "        text-align: right;\n",
       "    }\n",
       "</style>\n",
       "<table border=\"1\" class=\"dataframe\">\n",
       "  <thead>\n",
       "    <tr style=\"text-align: right;\">\n",
       "      <th></th>\n",
       "      <th>Exchange Rate</th>\n",
       "    </tr>\n",
       "    <tr>\n",
       "      <th>Date</th>\n",
       "      <th></th>\n",
       "    </tr>\n",
       "  </thead>\n",
       "  <tbody>\n",
       "    <tr>\n",
       "      <th>2023-02-01</th>\n",
       "      <td>14896</td>\n",
       "    </tr>\n",
       "  </tbody>\n",
       "</table>\n",
       "</div>"
      ],
      "text/plain": [
       "            Exchange Rate\n",
       "Date                     \n",
       "2023-02-01          14896"
      ]
     },
     "execution_count": 71,
     "metadata": {},
     "output_type": "execute_result"
    }
   ],
   "source": [
    "df_for_plot.sort_values(by = 'Exchange Rate', ascending = True).head(1)"
   ]
  },
  {
   "cell_type": "markdown",
   "metadata": {
    "ExecuteTime": {
     "end_time": "2020-01-13T05:20:56.208237Z",
     "start_time": "2020-01-13T05:20:56.076043Z"
    }
   },
   "source": [
    "From the plot, I can conclude that the lowest USD price in IDR is on February 2023. I sort that data frame base on Exchange Rate column from the lowest or ascending to get the exact value. And that is, **February 1, 2023 is the lowest USD price in IDR which was Rp 14.986**"
   ]
  },
  {
   "cell_type": "markdown",
   "metadata": {},
   "source": [
    "### Implement it at the webapps\n",
    "\n",
    "- You can create additional analysis from the data.\n",
    "- Implement it to the dashboard with at `app.py` dan `index.html`."
   ]
  }
 ],
 "metadata": {
  "kernelspec": {
   "display_name": "capstone_da",
   "language": "python",
   "name": "capstone_da"
  },
  "language_info": {
   "codemirror_mode": {
    "name": "ipython",
    "version": 3
   },
   "file_extension": ".py",
   "mimetype": "text/x-python",
   "name": "python",
   "nbconvert_exporter": "python",
   "pygments_lexer": "ipython3",
   "version": "3.10.10"
  }
 },
 "nbformat": 4,
 "nbformat_minor": 2
}
